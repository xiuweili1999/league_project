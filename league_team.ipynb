{
 "cells": [
  {
   "cell_type": "code",
   "execution_count": 104,
   "metadata": {},
   "outputs": [],
   "source": [
    "# import modules\n",
    "import pandas as pd\n",
    "import numpy as np\n",
    "import requests\n",
    "import urllib.request, urllib.parse, urllib.error\n",
    "from urllib.request import urlopen\n",
    "from bs4 import BeautifulSoup\n",
    "import re\n",
    "from datetime import datetime\n",
    "from ratelimit import limits\n",
    "from time import time, sleep\n",
    "from random import randint\n",
    "import matplotlib.pyplot as plt\n",
    "%matplotlib inline\n",
    "from warnings import warn\n"
   ]
  },
  {
   "cell_type": "code",
   "execution_count": 121,
   "metadata": {},
   "outputs": [],
   "source": [
    "df1 = pd.read_csv('league_raw_data.csv')\n",
    "df2 = pd.read_csv('league_raw_data_pt2.csv')"
   ]
  },
  {
   "cell_type": "code",
   "execution_count": 122,
   "metadata": {},
   "outputs": [],
   "source": [
    "combined_data = pd.concat([df, df2])"
   ]
  },
  {
   "cell_type": "code",
   "execution_count": 123,
   "metadata": {},
   "outputs": [],
   "source": [
    "combined_data.to_csv('league_data.csv', index=False)"
   ]
  },
  {
   "cell_type": "code",
   "execution_count": 124,
   "metadata": {},
   "outputs": [],
   "source": [
    "league_data = pd.read_csv('league_data.csv')"
   ]
  },
  {
   "cell_type": "code",
   "execution_count": 125,
   "metadata": {},
   "outputs": [],
   "source": [
    "s = pd.Series(league_data.index // 5)\n",
    "df = league_data[s.groupby(s).transform('count') == 5]\n"
   ]
  },
  {
   "cell_type": "code",
   "execution_count": 126,
   "metadata": {},
   "outputs": [],
   "source": [
    "league_team_data = league_data.groupby(df.index // 5).agg({'gameId':'last','gameDuration':'last','gameVersion':'last',\n",
    "                                        'teamId': 'last','win':'last','firstBlood':'last',\n",
    "                                        'firstTower':'last','firstInhibitor':'last',\n",
    "                                        'firstBaron':'last','firstDragon':'last',\n",
    "                                        'firstRiftHerald':'last','towerKills':'last', \n",
    "                                        'inhibitorKills':'last', 'baronKills':'last', \n",
    "                                        'dragonKills':'last','riftHeraldKills':'last',\n",
    "                                        'kills':'sum', 'deaths':'sum', 'assists':'sum',\n",
    "                                        'totalDamageDealtToChampions':'sum', 'visionScore':'sum',\n",
    "                                        'goldEarned':'sum', 'champLevel':'mean',\n",
    "                                        'totalMinionsKilled':'sum'})\n"
   ]
  },
  {
   "cell_type": "code",
   "execution_count": 127,
   "metadata": {},
   "outputs": [],
   "source": [
    "league_team_data.rename(columns = {'champLevel':'averageChampLevel'}, inplace = True)\n",
    "league_team_data['gameDuration'] = league_team_data.gameDuration.astype(str)\n",
    "league_team_data.rename(columns = {'gameDuration':'gameDuration(mm:ss)'}, inplace = True)\n",
    "league_team_data['gameDuration(mm:ss)'] = pd.to_datetime(league_team_data['gameDuration(mm:ss)'], unit='s').dt.strftime(\"%M:%S\")\n"
   ]
  },
  {
   "cell_type": "code",
   "execution_count": 134,
   "metadata": {},
   "outputs": [],
   "source": [
    "league_team_data.to_csv('league_team_data.csv', index=False)"
   ]
  },
  {
   "cell_type": "code",
   "execution_count": null,
   "metadata": {},
   "outputs": [],
   "source": []
  }
 ],
 "metadata": {
  "kernelspec": {
   "display_name": "Python 3",
   "language": "python",
   "name": "python3"
  },
  "language_info": {
   "codemirror_mode": {
    "name": "ipython",
    "version": 3
   },
   "file_extension": ".py",
   "mimetype": "text/x-python",
   "name": "python",
   "nbconvert_exporter": "python",
   "pygments_lexer": "ipython3",
   "version": "3.7.4"
  }
 },
 "nbformat": 4,
 "nbformat_minor": 2
}
